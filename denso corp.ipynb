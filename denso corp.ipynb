{
 "cells": [
  {
   "cell_type": "code",
   "execution_count": 8,
   "id": "073ee343",
   "metadata": {},
   "outputs": [
    {
     "name": "stdout",
     "output_type": "stream",
     "text": [
      "5 120 140 160 180\n",
      " ab 123\n",
      " bc 134\n",
      " dr 166\n",
      " fd 159\n",
      " ff 190\n",
      "S:\n",
      "ab\n",
      "bc\n",
      "M:\n",
      "fd\n",
      "L:\n",
      "dr\n",
      "X:\n",
      "ff\n"
     ]
    }
   ],
   "source": [
    "x = input(\"\")\n",
    "t = x.split( )\n",
    "n = int(t[0])\n",
    "m1 = int(t[1])\n",
    "m2 = int(t[2])\n",
    "m3 = int(t[3])\n",
    "m4 = int(t[4])\n",
    "\n",
    "S = []\n",
    "M = []\n",
    "L = []\n",
    "X = []\n",
    "\n",
    "def produce(player):\n",
    "    player.split( )\n",
    "    if int(player.split()[1]) in range(m1,m2):\n",
    "        S.append(player.split( )[0])\n",
    "    elif int(player.split()[1]) in range(m2,m3):\n",
    "        M.append(player.split( )[0])\n",
    "    if int(player.split()[1]) in range(m3,m4):\n",
    "        L.append(player.split( )[0])\n",
    "    if int(player.split()[1]) > m4:\n",
    "        X.append(player.split( )[0])\n",
    "\n",
    "for i in range(0,n):\n",
    "    player = input(\" \")\n",
    "    produce(player)\n",
    "\n",
    "print(\"S:\")\n",
    "for i in range(0, len(S)):\n",
    "    print(S[i])\n",
    "print(\"M:\")\n",
    "for i in range(0, len(M)):\n",
    "    print(M[i])\n",
    "print(\"L:\")\n",
    "for i in range(0, len(L)):\n",
    "    print(L[i])\n",
    "print(\"X:\")\n",
    "for i in range(0, len(X)):\n",
    "    print(X[i])"
   ]
  },
  {
   "cell_type": "code",
   "execution_count": null,
   "id": "00fb44b0",
   "metadata": {},
   "outputs": [],
   "source": []
  }
 ],
 "metadata": {
  "kernelspec": {
   "display_name": "Python 3 (ipykernel)",
   "language": "python",
   "name": "python3"
  },
  "language_info": {
   "codemirror_mode": {
    "name": "ipython",
    "version": 3
   },
   "file_extension": ".py",
   "mimetype": "text/x-python",
   "name": "python",
   "nbconvert_exporter": "python",
   "pygments_lexer": "ipython3",
   "version": "3.9.12"
  }
 },
 "nbformat": 4,
 "nbformat_minor": 5
}
